{
 "cells": [
  {
   "cell_type": "code",
   "execution_count": 1,
   "metadata": {},
   "outputs": [],
   "source": [
    "import sys, re\n",
    "import pandas as pd\n",
    "import pyomo.environ as pe\n",
    "import math, json\n",
    "from collections import defaultdict\n",
    "\n",
    "from src.optimization.treatment.preprocess_classes.useful_sets import UsefulSets\n",
    "from src.optimization.treatment.preprocess_classes.processed_data import ProcessedData\n",
    "\n",
    "from src.commons.s3_manager import S3Manager\n",
    "\n",
    "import sys, os, re, datetime, logging\n",
    "import pandas as pd\n",
    "from src.commons.s3_manager import S3Manager\n",
    "from src.optimization.treatment.treatment import treatment_model, read_parameters, process_treatment_results\n",
    "\n",
    "from src.commons.system_util import SystemUtilities\n",
    "from src.optimization.treatment.preprocess_data import preprocess_data\n",
    "from src.optimization.treatment.make_model import make_model\n",
    "from src.optimization.run_optimization import save_optimization_results\n",
    "from src.optimization.treatment.generate_output import generate_output\n",
    "from src.commons.process_results import ProcessResults\n",
    "\n",
    "logging.getLogger('pyomo.core').setLevel(logging.ERROR)\n",
    "\n",
    "import src.recommendations.water_recommendations as wr\n"
   ]
  },
  {
   "cell_type": "code",
   "execution_count": 7,
   "metadata": {},
   "outputs": [
    {
     "name": "stdout",
     "output_type": "stream",
     "text": [
      "    reading parameters file parameters_permian_scenario5_dav.json...\n",
      "    processing for Permian asset...\n",
      "    checking directories...\n",
      "    reading parameters...\n",
      "    Preprocessing data\n",
      "    reading data from one drive...\n",
      "    processing loaded data...\n",
      "    creating class attributes...\n",
      "    optimizing model...\n"
     ]
    }
   ],
   "source": [
    "s3_data, param_file = False, \"parameters_permian_scenario5_dav.json\"  #please maintain this values once you finish your development\n",
    "date = None if re.match('linux.*', sys.platform) else datetime.datetime.now()\n",
    "test, parameters, simulated_period = read_parameters(\"water\", s3_data, param_file, date)\n",
    "\n",
    "print(\"    Preprocessing data\")\n",
    "data, useful_sets, attributes_with_time = preprocess_data(parameters, simulated_period,s3_data)\n",
    "print(\"    optimizing model...\")     #putting data into attributes"
   ]
  },
  {
   "cell_type": "code",
   "execution_count": 8,
   "metadata": {},
   "outputs": [
    {
     "name": "stdout",
     "output_type": "stream",
     "text": [
      "POND_22_1\n",
      "134636.63650043597\n",
      "368.86749726146843\n",
      "POND_26_1\n",
      "114541.5149030759\n",
      "313.81236959746826\n",
      "POND_27_1\n",
      "127291.71017915993\n",
      "348.7444114497532\n",
      "POND_27_2\n",
      "193721.58397131035\n",
      "530.7440656748229\n",
      "OXY_BRACKISH_PONDS_SOUTH_10_1\n",
      "99919.48244816254\n",
      "273.75200670729464\n",
      "3P_MASK_POND\n",
      "328419.2586406212\n",
      "899.7787907962224\n",
      "RECYCLING_POND_1\n",
      "540282.7428052956\n",
      "1480.2266926172483\n",
      "RECYCLING_POND_2\n",
      "540282.7428052956\n",
      "1480.2266926172483\n",
      "RECYCLING_POND_3\n",
      "540282.7428052956\n",
      "1480.2266926172483\n",
      "RECYCLING_POND_4\n",
      "331125.28412740707\n",
      "907.1925592531701\n",
      "RECYCLING_POND_5\n",
      "368887.56460466015\n",
      "1010.6508619305757\n",
      "daily avg 9094.222640522521\n"
     ]
    }
   ],
   "source": [
    "TOTAL_EVAP=0\n",
    "for i,j in data.ponds_nodes_data['avg_area'].items():\n",
    "    print(i)\n",
    "    total_evap = data.evaporation_rates * 6.28981077 * data.ponds_nodes_data['avg_area'][i]\n",
    "    print(\"sum\", total_evap.evaporation_rate.sum())\n",
    "    print(\"avg\", total_evap.evaporation_rate.mean())\n",
    "\n",
    "    TOTAL_EVAP +=total_evap.evaporation_rate.sum()\n",
    "print('daily avg',TOTAL_EVAP/365)"
   ]
  },
  {
   "cell_type": "code",
   "execution_count": 30,
   "metadata": {},
   "outputs": [
    {
     "name": "stdout",
     "output_type": "stream",
     "text": [
      "POND_22_1\n",
      "{'BRACKISH_POND_22_1_SPLITTER', 'LOSS_22_1'}\n",
      "RECYCLING_POND_5\n",
      "{'LOSS_RECYC_POND_5', 'RECYCLING_POND_5_SPLIT'}\n",
      "POND_26_1\n",
      "{'LOSS_26_1', 'BRACKISH_POND_26_1_SPLITTER'}\n",
      "3P_MASK_POND\n",
      "{'LOSS_MASK_POND', 'POND_3P_SPLIT'}\n",
      "POND_27_2\n",
      "{'LOSS_27_2', 'BRACKISH_POND_27_2_SPLITTER'}\n",
      "POND_27_1\n",
      "{'LOSS_27_1', 'BRACKISH_POND_27_1_SPLITTER'}\n",
      "RECYCLING_POND_2\n",
      "{'LOSS_RECYC_POND_2', 'RECYCLING_POND_2_SPLIT'}\n",
      "OXY_BRACKISH_PONDS_SOUTH_10_1\n",
      "{'LOSS_10_1', 'OXY_BRACKISH_PONDS_SOUTH_SPLIT'}\n",
      "RECYCLING_POND_3\n",
      "{'LOSS_RECYC_POND_3', 'RECYCLING_POND_3_SPLIT'}\n",
      "RECYCLING_POND_4\n",
      "{'RECYCLING_SOUTH_SPLIT', 'LOSS_RECYC_POND_4'}\n",
      "RECYCLING_POND_1\n",
      "{'LOSS_RECYC_POND_1', 'RECYCLING_POND_1_SPLIT'}\n"
     ]
    }
   ],
   "source": [
    "for i,j in useful_sets.exits.items():\n",
    "    if i in useful_sets.pond_nodes:\n",
    "        # useful_sets.loss_tank_nodes\n",
    "        print(i)\n",
    "        print(j)"
   ]
  },
  {
   "cell_type": "code",
   "execution_count": 9,
   "metadata": {},
   "outputs": [
    {
     "name": "stdout",
     "output_type": "stream",
     "text": [
      "        [2023-04-06 10:52:58.618931] Creating ConcreteModel...\n",
      "        [2023-04-06 10:52:58.618931] Creating sets...\n",
      "        [2023-04-06 10:52:58.621317] Creating parameters...\n",
      "        [2023-04-06 10:52:58.638522] Creating Variables...\n",
      "        [2023-04-06 10:52:58.640517] Creating Constraints...\n",
      "        [2023-04-06 10:52:58.651229] Creating Objectives...\n",
      "      Solving the objective function number 1\n",
      "        0.01 seconds required to write file\n",
      "        0.01 seconds required for presolve\n",
      "        7.23 seconds required for solver\n",
      "        0.00 seconds required to read logfile \n",
      "        0.01 seconds required to read solution file \n",
      "        0.02 seconds required for postsolve\n",
      "        Solver status: ok\n",
      "        Solver termination condition: optimal\n",
      "Solution count: 1\n",
      "        Optimal value: 0.0\n",
      "        New constraint: calculate_delta_water_nominal 1: should be less than or equal to 0.0\n",
      "      Solving the objective function number 2\n",
      "        0.01 seconds required to write file\n",
      "Warm start write time=0.00 seconds\n",
      "        0.01 seconds required for presolve\n",
      "        7.49 seconds required for solver\n",
      "        0.00 seconds required to read logfile \n",
      "        0.01 seconds required to read solution file \n",
      "        0.02 seconds required for postsolve\n",
      "        Solver status: ok\n",
      "        Solver termination condition: optimal\n",
      "Solution count: 1\n",
      "        Optimal value: 0.0\n",
      "        New constraint: calculate_cost 1: should be less than or equal to 0.0\n",
      "Solving the LAST objective function!\n",
      "        0.01 seconds required to write file\n",
      "Warm start write time=0.00 seconds\n",
      "        0.02 seconds required for presolve\n",
      "        7.89 seconds required for solver\n",
      "        0.00 seconds required to read logfile \n",
      "        0.02 seconds required to read solution file \n",
      "        0.03 seconds required for postsolve\n"
     ]
    }
   ],
   "source": [
    "model, solver, result = make_model(data, useful_sets, parameters,attributes_with_time)"
   ]
  },
  {
   "attachments": {},
   "cell_type": "markdown",
   "metadata": {},
   "source": [
    "Sequential Run of optimize.py"
   ]
  },
  {
   "cell_type": "code",
   "execution_count": 2,
   "metadata": {},
   "outputs": [],
   "source": [
    "s3_data, param_file = False, \"parameters_AWS.json\"  #please maintain this values: False and None, once you have finished your development"
   ]
  },
  {
   "cell_type": "code",
   "execution_count": 3,
   "metadata": {},
   "outputs": [
    {
     "name": "stdout",
     "output_type": "stream",
     "text": [
      "    reading parameters file parameters_AWS.json...\n",
      "    processing for treatment asset...\n",
      "    reading parameters...\n"
     ]
    }
   ],
   "source": [
    "date = None if re.match('linux.*', sys.platform) else datetime.datetime.now()\n",
    "system_utilities = SystemUtilities(s3_data, param_file=param_file, date=date)\n",
    "system_utilities.read_parameters()\n",
    "system_utilities.generate_parameters('water')"
   ]
  },
  {
   "cell_type": "code",
   "execution_count": 4,
   "metadata": {},
   "outputs": [],
   "source": [
    "parameters = system_utilities.parameters\n",
    "#defining objects to store outputs\n",
    "athena, times, pandas_dataframe = [], {}, None\n",
    "delta, iterations = parameters['delta'], parameters['iterations']\n"
   ]
  },
  {
   "cell_type": "code",
   "execution_count": 5,
   "metadata": {},
   "outputs": [
    {
     "name": "stdout",
     "output_type": "stream",
     "text": [
      "**************************************************\n",
      "RUNNING WATER MODEL:\n",
      "    reading parameters...\n",
      "    reading parameters file parameters_AWS.json...\n",
      "    processing for treatment asset...\n",
      "    checking directories...\n",
      "    reading parameters...\n",
      "    Preprocessing data\n",
      "    reading data from one drive...\n",
      "    processing loaded data...\n",
      "    creating class attributes...\n",
      "    optimizing model...\n",
      "        [2023-04-06 12:39:32.411172] Creating ConcreteModel...\n",
      "        [2023-04-06 12:39:32.411712] Creating sets...\n",
      "        [2023-04-06 12:39:32.419797] Creating parameters...\n",
      "        [2023-04-06 12:39:35.577344] Creating Variables...\n",
      "        [2023-04-06 12:39:35.582965] Creating Constraints...\n",
      "        [2023-04-06 12:39:35.611081] Creating Objectives...\n",
      "      Solving the objective function number 1\n",
      "        0.05 seconds required to write file\n",
      "        0.05 seconds required for presolve\n",
      "        7.74 seconds required for solver\n",
      "        0.00 seconds required to read logfile \n",
      "        0.02 seconds required to read solution file \n",
      "        0.03 seconds required for postsolve\n",
      "        Solver status: ok\n",
      "        Solver termination condition: optimal\n",
      "Solution count: 1\n",
      "        Optimal value: 0.0\n",
      "        New constraint: calculate_delta_water_nominal 1: should be less than or equal to 0.0\n",
      "      Solving the objective function number 2\n",
      "        0.01 seconds required to write file\n",
      "Warm start write time=0.00 seconds\n",
      "        0.02 seconds required for presolve\n",
      "        7.87 seconds required for solver\n",
      "        0.00 seconds required to read logfile \n",
      "        0.01 seconds required to read solution file \n",
      "        0.02 seconds required for postsolve\n",
      "        Solver status: ok\n",
      "        Solver termination condition: optimal\n",
      "Solution count: 1\n",
      "        Optimal value: 0.0\n",
      "        New constraint: calculate_cost 1: should be less than or equal to 0.0\n",
      "Solving the LAST objective function!\n",
      "        0.01 seconds required to write file\n",
      "Warm start write time=0.01 seconds\n",
      "        0.01 seconds required for presolve\n",
      "        8.11 seconds required for solver\n",
      "        0.00 seconds required to read logfile \n",
      "        0.02 seconds required to read solution file \n",
      "        0.02 seconds required for postsolve\n"
     ]
    }
   ],
   "source": [
    "model, result, runtime = treatment_model('water', s3_data, param_file, date, None)\n"
   ]
  },
  {
   "cell_type": "code",
   "execution_count": 12,
   "metadata": {},
   "outputs": [
    {
     "name": "stdout",
     "output_type": "stream",
     "text": [
      "    reading parameters file parameters_AWS.json...\n",
      "    processing for treatment asset...\n",
      "    checking directories...\n",
      "    reading parameters...\n",
      "    reading data from one drive...\n",
      "    processing loaded data...\n",
      "    creating class attributes...\n",
      "    exporting results...\n",
      "PROCESSING WATER MODEL OUTPUTS:\n",
      "    reading parameters file parameters_AWS.json...\n",
      "    processing for treatment asset...\n",
      "    reading parameters...\n",
      "    reading data from one drive...\n",
      "    processing edges...\n",
      "    processing nodes...\n",
      "    putting it together...\n",
      "    addign kpis to database...\n",
      "    WATER running done.\n",
      "**************************************************\n"
     ]
    }
   ],
   "source": [
    "model_athena = process_treatment_results('water', s3_data, param_file, date, None, model, result)\n"
   ]
  },
  {
   "cell_type": "code",
   "execution_count": 6,
   "metadata": {},
   "outputs": [
    {
     "name": "stdout",
     "output_type": "stream",
     "text": [
      "    reading parameters file parameters_AWS.json...\n",
      "    processing for treatment asset...\n",
      "    checking directories...\n",
      "    reading parameters...\n",
      "    reading data from one drive...\n",
      "    processing loaded data...\n",
      "    creating class attributes...\n"
     ]
    }
   ],
   "source": [
    "#Running postprocess sequentially\n",
    "model_name = 'water'\n",
    "cost_of_injection = None\n",
    "test, parameters, simulated_period = read_parameters(model_name, s3_data, param_file, date)\n",
    "data, _, _ = preprocess_data(parameters, simulated_period,s3_data=s3_data, cost_of_injection = cost_of_injection)\n"
   ]
  },
  {
   "cell_type": "code",
   "execution_count": 7,
   "metadata": {},
   "outputs": [],
   "source": [
    "outputs = generate_output(model, result, parameters, data)\n"
   ]
  },
  {
   "cell_type": "code",
   "execution_count": 8,
   "metadata": {},
   "outputs": [
    {
     "name": "stdout",
     "output_type": "stream",
     "text": [
      "[{'time': 1, 'type': 'recirculate_per_arc', 'params': {'value': 9999899.0, 'percentage': 3999.9596, 'source': 'G', 'target': 'I'}}, {'time': 1, 'type': 'recirculate_system', 'params': {'value': 9999899.0, 'percentage': 3999.9596, 'source': 'model_start', 'target': 'model_end'}}]\n",
      "[]\n",
      "[{'time': 1, 'type': 'nominal_value_recommend', 'params': {'percentage fulfillment of nominal': 100.0, 'source': 'F', 'target': 'I', 'Minimum operative window': 0, 'Maximum operative window': 9999999, 'optimal water': 100.0, 'desired water': 100.0}}]\n"
     ]
    }
   ],
   "source": [
    "#generating recirculation recomendations\n",
    "recirculation = wr.get_action_recirculation(data.arcs_data.reset_index(), outputs)\n",
    "#generating reuse recomendations\n",
    "reuse = wr.get_action_reuse(data.arcs_data.reset_index(), data.ending_nodes_data.reset_index(), outputs)\n",
    "#generating nominal value recomendations\n",
    "nominal = wr.get_action_nominal_values(data.arcs_data.reset_index(), outputs)\n",
    "recommendations, actions = [recirculation, reuse, nominal], []\n",
    "for recomm in recommendations:\n",
    "    print(recomm)\n",
    "    if len(recomm):\n",
    "        actions.extend(recomm)\n",
    "if len(actions):\n",
    "    recomendations_path = test.parameters[\"output_recommendations_dir\"]\n",
    "    with open(recomendations_path, 'w') as f:\n",
    "        json.dump(actions, f)\n"
   ]
  },
  {
   "cell_type": "code",
   "execution_count": 11,
   "metadata": {},
   "outputs": [
    {
     "name": "stdout",
     "output_type": "stream",
     "text": [
      "PROCESSING WATER MODEL OUTPUTS:\n",
      "    reading parameters file parameters_AWS.json...\n",
      "    processing for treatment asset...\n",
      "    reading parameters...\n",
      "    reading data from one drive...\n",
      "    processing edges...\n",
      "    processing nodes...\n",
      "    putting it together...\n",
      "    addign kpis to database...\n",
      "    WATER running done.\n",
      "**************************************************\n"
     ]
    }
   ],
   "source": [
    "print(f'PROCESSING {model_name.upper()} MODEL OUTPUTS:')\n",
    "test_results = ProcessResults(model_name, outputs,  s3_data=s3_data, param_file=param_file, date=date)\n",
    "print(f\"    {model_name.upper()} running done.\")\n",
    "print('*'*50)\n",
    "\n"
   ]
  },
  {
   "cell_type": "code",
   "execution_count": null,
   "metadata": {},
   "outputs": [],
   "source": [
    "athena, times = save_optimization_results(system_utilities, athena, times, 'water', model, model_athena, runtime)\n"
   ]
  },
  {
   "cell_type": "code",
   "execution_count": 56,
   "metadata": {},
   "outputs": [],
   "source": [
    "#EVAPORATION\n",
    "import pandas as pd\n",
    "import numpy as np\n",
    "from datetime import datetime\n",
    "from scipy import optimize\n",
    "from scipy.optimize import root_scalar\n",
    "\n",
    "# Set the target evaporation and initial guess for the correction factor\n",
    "target_evap_barrels = 8500 #barrels/day (for the whole surface of the facility)\n",
    "target_evap_m3 = target_evap_barrels * 0.1589873\n",
    "tot_surface_area = 217524 #unit = m2\n",
    "\n",
    "data_folder = 'C:/Users/david.collard/Accenture/HTX Hub - Ecopetrol Water Management - 07. Rodeo Midland Basin - Work. Sol/300_Create/Analytics/Analysis/Weather Forecasting/Data sources/'\n",
    "weather_data = pd.read_excel(data_folder + 'Open weather API Permian structured.xlsx', sheet_name = 'historic data')\n",
    "radiation_data = pd.read_excel(data_folder + 'SoDa_Data_Permian_lat32.209_lon-102.134_2005-01-01_2022-12-31.xlsx', sheet_name = 'historic data')\n"
   ]
  },
  {
   "cell_type": "code",
   "execution_count": 57,
   "metadata": {},
   "outputs": [],
   "source": [
    "def preprocessing_weather(weather_data):\n",
    "        # create separate columns that indicate the month and the year\n",
    "    weather_data['date_short'] = [x[:10] for x in weather_data['dt_iso']]\n",
    "    weather_data[\"month\"] = [x[5:7] for x in weather_data['date_short']]\n",
    "    weather_data[\"year\"] = [x[0:4] for x in weather_data['date_short']]\n",
    "    weather_data['temp_celcius'] = weather_data['temp'] - 273.15\n",
    "\n",
    "    # limit the weather data to the dates we have available for solar data - 1/1/2005 until 31/12/2022\n",
    "    weather_data[\"year\"] = weather_data[\"year\"].astype('int')\n",
    "    weather_data_limited = weather_data[weather_data[\"year\"] >= 2005].reset_index(drop=True)\n",
    "    weather_data_limited = weather_data_limited[weather_data_limited[\"year\"] <= 2022].reset_index(drop=True)\n",
    "    return weather_data_limited\n",
    "\n",
    "def preprocessing_radiation(radiation_data):\n",
    "    #change dates to same format as in weather data by adding a zero before single numbers\n",
    "    # the method is called leading zero's and I want 2 numbers in total so one leading zero\n",
    "    radiation_data['Month']=radiation_data['Month'].apply(lambda x: '{0:0>2}'.format(x))\n",
    "    radiation_data['Day']=radiation_data['Day'].apply(lambda x: '{0:0>2}'.format(x))\n",
    "    radiation_data['date_short'] = radiation_data[\"Year\"].astype(str) + \"-\" + radiation_data[\"Month\"] + \"-\" + radiation_data[\"Day\"]\n",
    "    # rename columns to the same format as weather data\n",
    "    radiation_data = radiation_data.rename(columns={\"Year\": \"year\", \"Month\": \"month\", \"Extraterrestrial Irradiance\": \"extraterrestial_irradiance\", \"Irradiation (Wh/m2)\":\"solar_irradiance\"})\n",
    "    # select only the columns we want\n",
    "    radiation_data = radiation_data[[\"date_short\", \"month\", \"year\", \"extraterrestial_irradiance\", \"solar_irradiance\"]]\n",
    "    return radiation_data\n",
    "\n",
    "def merge_weather_radiation(weather_data, radiation_data):\n",
    "    weather_radiation_data = weather_data.merge(radiation_data, left_on='date_short', right_on='date_short', suffixes=('_weather', '_radiation'))\n",
    "    # select only the columns we want\n",
    "    weather_radiation_data = weather_radiation_data[[\"date_short\", \"month_weather\", \"year_weather\", \"temp_celcius\", \"humidity\", \"wind_speed\", \"extraterrestial_irradiance\", \"solar_irradiance\"]]\n",
    "    # rename columns\n",
    "    weather_radiation_data = weather_radiation_data.rename(columns={\"date_short\": \"Date\", \"month_weather\": \"month\", \"year_weather\": \"year\"})\n",
    "    # calculate irradiance from Wh/m2 to MJ/m2 by using 1 MJ/m2 = 0.0036 * Wh/m2\n",
    "    weather_radiation_data[\"extraterrestial_irradiance_MJ\"] = weather_radiation_data[\"extraterrestial_irradiance\"]*0.0864\n",
    "    weather_radiation_data[\"solar_irradiance_MJ\"] = (weather_radiation_data[\"solar_irradiance\"]*0.0036)\n",
    "    return weather_radiation_data\n",
    "\n",
    "#Preparing the weather_radiation dataframe\n",
    "weather_data = preprocessing_weather(weather_data)\n",
    "radiation_data = preprocessing_radiation(radiation_data)\n",
    "weather_radiation_data = merge_weather_radiation(weather_data, radiation_data)\n"
   ]
  },
  {
   "cell_type": "code",
   "execution_count": 58,
   "metadata": {},
   "outputs": [],
   "source": [
    "def calculate_evaporation(correction_factor): #weather_radiation_data, target_evap, \n",
    "\n",
    "    # Apply correction factor \n",
    "    weather_radiation_data[\"solar_irradiance_MJ_NEW\"] = weather_radiation_data[\"solar_irradiance_MJ\"] * correction_factor\n",
    "\n",
    "    # Parts of the evaporation calculation \n",
    "    weather_radiation_data[\"EQ33_formula_part1\"] = 0.051 * (1-0.08) * weather_radiation_data['solar_irradiance_MJ_NEW'] * (((weather_radiation_data['temp_celcius'])+9.5)**(1/2))\n",
    "    weather_radiation_data[\"EQ33_formula_part2\"] = 2.4 * ((weather_radiation_data['solar_irradiance_MJ_NEW']/weather_radiation_data['extraterrestial_irradiance_MJ'])**(2))\n",
    "    weather_radiation_data[\"EQ33_formula_part3\"] = 0.09 * (weather_radiation_data['temp_celcius']+20) * (1-(weather_radiation_data['humidity']/100))\n",
    "\n",
    "    # Bring all parts of the equation together\n",
    "    weather_radiation_data[\"Evaporation\"] = weather_radiation_data[\"EQ33_formula_part1\"] - weather_radiation_data[\"EQ33_formula_part2\"] + weather_radiation_data[\"EQ33_formula_part3\"]\n",
    "\n",
    "    # Convert evaporation in mm/day to m/day to be in line with other units in the water management model\n",
    "    weather_radiation_data[\"Evaporation\"] = weather_radiation_data['Evaporation'] * 0.001\n",
    "\n",
    "    # Get evaporation lost\n",
    "    weather_radiation_data[\"Evaporation_Loss\"] = weather_radiation_data[\"Evaporation\"] * tot_surface_area\n",
    "\n",
    "    # Get only the columns we need\n",
    "    calculated_evaporation = weather_radiation_data[[\"Date\", \"year\", \"Evaporation_Loss\"]] \n",
    "\n",
    "    # Get current year to filter the mean evaporation so that we can compare it with target evaporation\n",
    "    evaporation_average = calculated_evaporation.groupby(\"year\").agg(evaporation_loss = ('Evaporation_Loss',\"mean\")).reset_index()\n",
    "    # Filter on last year\n",
    "    last_year = datetime.now().year - 1\n",
    "    evaporation_average = evaporation_average.evaporation_loss[evaporation_average.year==last_year]\n",
    "\n",
    "    print(\"evaporation avg:\", float(evaporation_average))\n",
    "    print(\"target:\", target_evap_m3)\n",
    "\n",
    "    evap_difference = evaporation_average - target_evap_m3\n",
    "\n",
    "    return float(evap_difference)"
   ]
  },
  {
   "cell_type": "code",
   "execution_count": 61,
   "metadata": {},
   "outputs": [
    {
     "name": "stdout",
     "output_type": "stream",
     "text": [
      "evaporation avg: 1608.9791461891637\n",
      "target: 1351.39205\n",
      "257.58709618916373\n"
     ]
    }
   ],
   "source": [
    "diff = calculate_evaporation(correction_factor = 0.7) #weather_radiation_data = weather_radiation_data, target_evap = target_evap_m3, \n",
    "print(diff)\n"
   ]
  },
  {
   "cell_type": "code",
   "execution_count": 63,
   "metadata": {},
   "outputs": [
    {
     "name": "stdout",
     "output_type": "stream",
     "text": [
      "evaporation avg: 425.69694954930634\n",
      "target: 1351.39205\n",
      "evaporation avg: 2104.223759654534\n",
      "target: 1351.39205\n",
      "evaporation avg: 1361.1840235298973\n",
      "target: 1351.39205\n",
      "evaporation avg: 1351.3893451123247\n",
      "target: 1351.39205\n",
      "evaporation avg: 1351.392050373866\n",
      "target: 1351.39205\n",
      "evaporation avg: 1351.39205\n",
      "target: 1351.39205\n",
      "0.5456455247698183\n",
      "evaporation avg: 1351.39205\n",
      "target: 1351.39205\n",
      "0.0\n"
     ]
    }
   ],
   "source": [
    "result = root_scalar(calculate_evaporation, bracket= [0,1]) #args=(weather_radiation_data, target_evap_m3)\n",
    "\n",
    "# The correction factor will be stored in the 'root' attribute of the result object\n",
    "new_correction_factor = result.root\n",
    "print(new_correction_factor)\n",
    "\n",
    "# Use the correction factor to adjust your evaporation calculation\n",
    "adjusted_evap = calculate_evaporation(correction_factor = new_correction_factor) #weather_radiation_data = weather_radiation_data, target_evap = target_evap_m3,\n",
    "print(adjusted_evap)"
   ]
  }
 ],
 "metadata": {
  "kernelspec": {
   "display_name": "wmm_env",
   "language": "python",
   "name": "python3"
  },
  "language_info": {
   "codemirror_mode": {
    "name": "ipython",
    "version": 3
   },
   "file_extension": ".py",
   "mimetype": "text/x-python",
   "name": "python",
   "nbconvert_exporter": "python",
   "pygments_lexer": "ipython3",
   "version": "3.9.7"
  },
  "orig_nbformat": 4,
  "vscode": {
   "interpreter": {
    "hash": "3574c06ad867528a4a25a637df86309b76389cd47b92bbc3fd19447166fe2bed"
   }
  }
 },
 "nbformat": 4,
 "nbformat_minor": 2
}
